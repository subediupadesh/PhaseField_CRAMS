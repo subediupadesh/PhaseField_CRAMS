{
 "cells": [
  {
   "cell_type": "code",
   "execution_count": 1,
   "id": "1a80000c-cd55-41c5-aa3d-3a624cf4d573",
   "metadata": {},
   "outputs": [],
   "source": [
    "import numpy as np\n",
    "import pandas as pd\n",
    "import matplotlib.pyplot as plt\n",
    "import os\n",
    "import matplotlib.patches as patches\n",
    "from matplotlib.patches import Polygon \n",
    "from scipy.io import loadmat\n",
    "from matplotlib.colors import ListedColormap\n",
    "from matplotlib.lines import Line2D\n",
    "from matplotlib.text import Text\n",
    "from natsort import natsorted"
   ]
  },
  {
   "cell_type": "markdown",
   "id": "705985e2-a01d-4732-911c-48046c758a38",
   "metadata": {
    "jp-MarkdownHeadingCollapsed": true
   },
   "source": [
    "## For High Power"
   ]
  },
  {
   "cell_type": "code",
   "execution_count": 2,
   "id": "acc4ac11-19bf-4efa-ad93-eaba14779eb9",
   "metadata": {},
   "outputs": [],
   "source": [
    "power_level = 'high' #'low'\n",
    "numpy_path = os.path.abspath(f'../../1_Simulation_Results/numpy_files/{power_level}_power/')\n",
    "\n",
    "colormap_data = loadmat('../cold2hot.mat')\n",
    "cold2hot = ListedColormap(colormap_data['colormap'])\n",
    "hot2cold = ListedColormap(colormap_data['colormap'][::-1])"
   ]
  },
  {
   "cell_type": "code",
   "execution_count": 3,
   "id": "a8a21f37-870a-452d-b7cb-ad132d4fb349",
   "metadata": {},
   "outputs": [],
   "source": [
    "LIQ1 = np.load(numpy_path+'/LIQ1.npy')\n",
    "FCC2 = np.load(numpy_path+'/FCC2.npy')\n",
    "BCC3 = np.load(numpy_path+'/BCC3.npy')\n",
    "FCC4 = np.load(numpy_path+'/FCC4.npy')\n",
    "BCC5 = np.load(numpy_path+'/BCC5.npy')\n",
    "temp = np.load(numpy_path+'/temp.npy')\n",
    "time = np.load(numpy_path+'/time.npy')"
   ]
  },
  {
   "cell_type": "code",
   "execution_count": 4,
   "id": "f9a08acc-df67-4d5e-be97-48898e557ad1",
   "metadata": {},
   "outputs": [
    {
     "data": {
      "text/plain": [
       "(1911,)"
      ]
     },
     "execution_count": 4,
     "metadata": {},
     "output_type": "execute_result"
    }
   ],
   "source": [
    "time = time*1e-6 # mu_sec\n",
    "time.shape"
   ]
  },
  {
   "cell_type": "code",
   "execution_count": 21,
   "id": "1a9b1e23-2cb3-429f-9808-e20764c4f4af",
   "metadata": {},
   "outputs": [
    {
     "name": "stdout",
     "output_type": "stream",
     "text": [
      "FINISHED\n"
     ]
    }
   ],
   "source": [
    "scan_speed = r'300 $\\mathbf{mm/s}$'\n",
    "power = r\"180 $\\mathbf{W}$\"\n",
    "\n",
    "def update_plot(t_step):\n",
    "    \n",
    "    laser_speed = 300e-3 # m/s\n",
    "    scaling_factor = 1\n",
    "    if time[t_step] <= 15e-6:\n",
    "        laser_act_pos = 80e-6 * 1e6 # convering to meters\n",
    "    else:\n",
    "        laser_act_pos = (80e-6 + (time[t_step]-15e-6)*laser_speed) * 1e6  ## converting to visualization unit \n",
    "    laser_pos = laser_act_pos*scaling_factor # Laser position in accordance with figure\n",
    "    \n",
    "    fig, ax1 = plt.subplots(1,1, figsize=(16,8), frameon=False)\n",
    "    ax1.set_facecolor((0, 0, 0, 0))\n",
    "    \n",
    "    # gist_rainbow\n",
    "    cmap =  plt.get_cmap('Set1_r')\n",
    "    cmap.set_under('white', alpha=0)\n",
    "    hmap1 = ax1.imshow(LIQ1[:,:,t_step], extent=[0, 500, 0, 90], cmap=cmap, vmin=0.001, vmax=0.01, aspect=1, origin=\"upper\", interpolation='bilinear')\n",
    "    \n",
    "    cmap = plt.get_cmap('rainbow_r') # ocean_r\n",
    "    cmap.set_under('white', alpha=0)\n",
    "    hmap2a = ax1.imshow(FCC2[:,:,t_step], extent=[0, 500, 0, 90], cmap=cmap, vmin=0.4, vmax=0.6, aspect=1, origin=\"upper\", interpolation='bilinear')\n",
    "    cmap = plt.get_cmap('rainbow_r') # RdYlGn\n",
    "    cmap.set_under('white', alpha=0)\n",
    "    hmap2b = ax1.imshow(FCC4[:,:,t_step], extent=[0, 500, 0, 90], cmap=cmap, vmin=0.01, vmax=0.05, aspect=1, origin=\"upper\", interpolation='bilinear')\n",
    "    \n",
    "    cmap = plt.get_cmap('Pastel1_r') # Pastel1_r\n",
    "    cmap.set_under('white', alpha=0) \n",
    "    hmap3a = ax1.imshow(BCC3[:,:,t_step], extent=[0, 500, 0, 90], cmap=cmap, vmin=0.4, vmax=0.6, aspect=1, origin=\"upper\", interpolation='bilinear')\n",
    "    \n",
    "    cmap = plt.get_cmap('Pastel1_r') # winter\n",
    "    cmap.set_under('white', alpha=0)\n",
    "    hmap3b = ax1.imshow(BCC5[:,:,t_step], extent=[0, 500, 0, 90], cmap=cmap, vmin=0.4, vmax=0.6, aspect=1, origin=\"upper\", interpolation='bilinear')\n",
    "    \n",
    "    contour_levels = [677, 1468,  1864, ]\n",
    "    label_colors = ['k', 'k', 'cyan', 'white']\n",
    "    contour = ax1.contour(temp[:, :, t_step], extent=[0, 500, 0, 90], levels=contour_levels, linewidths=5, origin=\"upper\", colors='orange', linestyles='dashdot')\n",
    "    [(label.set_fontweight('bold'), label.set_color(color)) for label, color in zip(plt.clabel(contour, inline=True, fontsize=16, fmt='%1.0f K'), label_colors)]\n",
    "    \n",
    "    # ax1.arrow(laser_pos, -51, 0, 50,  width = 4.5, color='red', length_includes_head=True, clip_on=False)\n",
    "    # ax1.text(laser_pos-20,-12, power, rotation=90, color='k', fontsize=20, weight='bold')\n",
    "            \n",
    "    # ax1.set_title(f't = {time[t_step]*1e6:.0f} '+r'$\\mathbf{\\mu}$s', pad=10, loc='right', fontsize=25, weight='bold')\n",
    "\n",
    "    if laser_pos < 250:\n",
    "        ax1.set_title(f't = {time[t_step]*1e6:.0f} '+r'$\\mathbf{\\mu}$s', pad=10, loc='right', fontsize=25, weight='bold')\n",
    "    else:\n",
    "        ax1.set_title(f't = {time[t_step]*1e6:.0f} '+r'$\\mathbf{\\mu}$s', pad=10, loc='left', fontsize=25, weight='bold')        \n",
    "    \n",
    "    # ax1.text(laser_pos+10, -40, s=f'{scan_speed}', fontsize=20, weight = 'bold')\n",
    "    # ax1.arrow(laser_pos+10, -28, 30, 0,  width = 3, color='k', fill=False, clip_on=False)\n",
    "\n",
    "    if laser_pos <= 415.5:\n",
    "        ax1.text(laser_pos+10, -40, s=f'{scan_speed}', fontsize=20, weight = 'bold')\n",
    "        ax1.arrow(laser_pos+10, -28, 30, 0,  width = 3, color='k', fill=False, clip_on=False)\n",
    "        ax1.arrow(laser_pos, -51, 0, 50,  width = 4.5, color='red', length_includes_head=True, clip_on=False)\n",
    "        ax1.text(laser_pos-20,-12, power, rotation=90, color='k', fontsize=20, weight='bold')\n",
    "    else:\n",
    "        ax1.text(400, -20, s=f'Laser Off', fontsize=20, weight = 'bold')\n",
    "        ax1.arrow(laser_pos, -51, 0, 50,  width = 4.5, color='none', length_includes_head=True, clip_on=False)\n",
    "        \n",
    "    \n",
    "    ax1.set_xlim(-1, 500)\n",
    "    ax1.set_ylim(91, -1)\n",
    "    \n",
    "    ax1.set_xlabel('$\\mathbf{\\longleftarrow}$                 500 $ \\mathbf{\\mu m}$                $\\mathbf{\\longrightarrow}$', fontsize = 27, weight ='bold',)\n",
    "    ax1.annotate(r'$\\mathbf{\\leftarrow}$90 $\\mathbf{\\mu m}$ $\\mathbf{\\rightarrow}$', xy=(0.5, 0.5), xytext=(-0.025, 0.5), rotation=90,\n",
    "                 xycoords='axes fraction', textcoords='axes fraction', fontsize = 27, weight = 'bold', color='k', ha='center', va='center')\n",
    "    \n",
    "    ax1.tick_params(axis='both', labelcolor='black', labelsize=65, bottom=False, top=False, left=False, right=False, labelbottom=False, labelleft=False)\n",
    "    ax1.spines[:].set_linewidth(2)\n",
    "    \n",
    "    FCC2_txt = ax1.text(450, 20, r'$\\mathbf{\\gamma_{G_1}}$', fontsize = 40, weight='bold', color='white')\n",
    "    FCC4_txt = ax1.text(250, 65, r'$\\mathbf{\\gamma_{G_2}}$', fontsize = 40, weight='bold', color='white')\n",
    "    BCC3_txt = ax1.text(15, 20, r'$\\mathbf{\\alpha_{G_1}}$', fontsize = 40, weight='bold', color='k')\n",
    "    BCC5_txt = ax1.text(125, 87, r'$\\mathbf{\\alpha_{G_2}}$', fontsize = 30, weight='bold', color='k')\n",
    "\n",
    "# t_steps = 100 # 1350\n",
    "# ############ To save the image as well #############\n",
    "for t_step in range(1100, 1911, 1):\n",
    "# for t_step in range(t_steps):\n",
    "    if f'{time[t_step]*1e6:.0f}' != f'{time[t_step-1]*1e6:.0f}':\n",
    "        update_plot(t_step)\n",
    "        plt.savefig(f'../temperoray_figures/{power_level}_power/phase_evolve/f_{t_step}.png',bbox_inches='tight', dpi=100)\n",
    "    plt.close()\n",
    "print(\"FINISHED\")"
   ]
  },
  {
   "cell_type": "code",
   "execution_count": 22,
   "id": "00eb1d8f-35ef-4740-bb9f-e93ebd14f8c9",
   "metadata": {},
   "outputs": [
    {
     "name": "stdout",
     "output_type": "stream",
     "text": [
      "Finished\n"
     ]
    }
   ],
   "source": [
    "## Remaing the image names for sequential\n",
    "\n",
    "input_dir = f'../temperoray_figures/{power_level}_power/phase_evolve/'\n",
    "files = natsorted([f for f in os.listdir(input_dir) if f.startswith(\"f_\") and f.endswith(\".png\")])\n",
    "\n",
    "for i, fname in enumerate(files, start=0):\n",
    "    old_path = os.path.join(input_dir, fname)\n",
    "    new_path = os.path.join(input_dir, f\"f_{i}.png\")\n",
    "    os.rename(old_path, new_path)\n",
    "print(\"Finished\")"
   ]
  },
  {
   "cell_type": "code",
   "execution_count": null,
   "id": "d93d54ff-7f6b-48da-b5b2-28a3fcebd013",
   "metadata": {},
   "outputs": [],
   "source": []
  },
  {
   "cell_type": "markdown",
   "id": "9091b0a3-3e5f-4fbf-8e5a-d3d387696351",
   "metadata": {},
   "source": [
    "## For Lower Power"
   ]
  },
  {
   "cell_type": "code",
   "execution_count": 23,
   "id": "1d280845-6612-4666-8e47-e46a068cd4a8",
   "metadata": {},
   "outputs": [],
   "source": [
    "power_level = 'low'\n",
    "numpy_path = os.path.abspath(f'../../1_Simulation_Results/numpy_files/{power_level}_power/')\n",
    "\n",
    "colormap_data = loadmat('../cold2hot.mat')\n",
    "cold2hot = ListedColormap(colormap_data['colormap'])\n",
    "hot2cold = ListedColormap(colormap_data['colormap'][::-1])"
   ]
  },
  {
   "cell_type": "code",
   "execution_count": 24,
   "id": "99e509d4-2b60-4312-b191-50fb574da86c",
   "metadata": {},
   "outputs": [],
   "source": [
    "LIQ1 = np.load(numpy_path+'/LIQ1.npy')\n",
    "FCC2 = np.load(numpy_path+'/FCC2.npy')\n",
    "BCC3 = np.load(numpy_path+'/BCC3.npy')\n",
    "FCC4 = np.load(numpy_path+'/FCC4.npy')\n",
    "BCC5 = np.load(numpy_path+'/BCC5.npy')\n",
    "temp = np.load(numpy_path+'/temp.npy')\n",
    "time = np.load(numpy_path+'/time.npy')"
   ]
  },
  {
   "cell_type": "code",
   "execution_count": 25,
   "id": "9575f551-d170-4008-8e17-76cf3156dad3",
   "metadata": {},
   "outputs": [
    {
     "data": {
      "text/plain": [
       "(633,)"
      ]
     },
     "execution_count": 25,
     "metadata": {},
     "output_type": "execute_result"
    }
   ],
   "source": [
    "time = time*1e-6 # mu_sec\n",
    "time.shape"
   ]
  },
  {
   "cell_type": "code",
   "execution_count": 26,
   "id": "7be9bdf6-2d10-4318-9320-12502732dd1d",
   "metadata": {},
   "outputs": [
    {
     "name": "stdout",
     "output_type": "stream",
     "text": [
      "FINISHED\n"
     ]
    }
   ],
   "source": [
    "scan_speed = r'300 $\\mathbf{mm/s}$'\n",
    "power = r\"45 $\\mathbf{W}$\"\n",
    "\n",
    "def update_plot(t_step):\n",
    "    \n",
    "    laser_speed = 300e-3 # m/s\n",
    "    scaling_factor = 1\n",
    "    if time[t_step] <= 15e-6:\n",
    "        laser_act_pos = 80e-6 * 1e6 # convering to meters\n",
    "    else:\n",
    "        laser_act_pos = (80e-6 + (time[t_step]-15e-6)*laser_speed) * 1e6  ## converting to visualization unit \n",
    "    laser_pos = laser_act_pos*scaling_factor # Laser position in accordance with figure\n",
    "    \n",
    "    fig, ax1 = plt.subplots(1,1, figsize=(16,8), frameon=False)\n",
    "    ax1.set_facecolor((0, 0, 0, 0))\n",
    "    \n",
    "    # gist_rainbow\n",
    "    cmap =  plt.get_cmap('Set1_r')\n",
    "    cmap.set_under('white', alpha=0)\n",
    "    hmap1 = ax1.imshow(LIQ1[:,:,t_step], extent=[0, 500, 0, 90], cmap=cmap, vmin=0.001, vmax=0.01, aspect=1, origin=\"upper\", interpolation='bilinear')\n",
    "    \n",
    "    cmap = plt.get_cmap('rainbow_r') # ocean_r\n",
    "    cmap.set_under('white', alpha=0)\n",
    "    hmap2a = ax1.imshow(FCC2[:,:,t_step], extent=[0, 500, 0, 90], cmap=cmap, vmin=0.4, vmax=0.6, aspect=1, origin=\"upper\", interpolation='bilinear')\n",
    "    cmap = plt.get_cmap('rainbow_r') # RdYlGn\n",
    "    cmap.set_under('white', alpha=0)\n",
    "    hmap2b = ax1.imshow(FCC4[:,:,t_step], extent=[0, 500, 0, 90], cmap=cmap, vmin=0.01, vmax=0.05, aspect=1, origin=\"upper\", interpolation='bilinear')\n",
    "    \n",
    "    cmap = plt.get_cmap('Pastel1_r') # Pastel1_r\n",
    "    cmap.set_under('white', alpha=0) \n",
    "    hmap3a = ax1.imshow(BCC3[:,:,t_step], extent=[0, 500, 0, 90], cmap=cmap, vmin=0.4, vmax=0.6, aspect=1, origin=\"upper\", interpolation='bilinear')\n",
    "    \n",
    "    cmap = plt.get_cmap('Pastel1_r') # winter\n",
    "    cmap.set_under('white', alpha=0)\n",
    "    hmap3b = ax1.imshow(BCC5[:,:,t_step], extent=[0, 500, 0, 90], cmap=cmap, vmin=0.4, vmax=0.6, aspect=1, origin=\"upper\", interpolation='bilinear')\n",
    "    \n",
    "    contour_levels = [677, 1468,  1864, ]\n",
    "    label_colors = ['k', 'k', 'cyan', 'white']\n",
    "    contour = ax1.contour(temp[:, :, t_step], extent=[0, 500, 0, 90], levels=contour_levels, linewidths=5, origin=\"upper\", colors='orange', linestyles='dashdot')\n",
    "    [(label.set_fontweight('bold'), label.set_color(color)) for label, color in zip(plt.clabel(contour, inline=True, fontsize=16, fmt='%1.0f K'), label_colors)]\n",
    "               \n",
    "    if laser_pos < 250:\n",
    "        ax1.set_title(f't = {time[t_step]*1e6:.0f} '+r'$\\mathbf{\\mu}$s', pad=10, loc='right', fontsize=25, weight='bold')\n",
    "    else:\n",
    "        ax1.set_title(f't = {time[t_step]*1e6:.0f} '+r'$\\mathbf{\\mu}$s', pad=10, loc='left', fontsize=25, weight='bold')            \n",
    "\n",
    "    if laser_pos <= 415.5:\n",
    "        ax1.text(laser_pos+10, -40, s=f'{scan_speed}', fontsize=20, weight = 'bold')\n",
    "        ax1.arrow(laser_pos+10, -28, 30, 0,  width = 3, color='k', fill=False, clip_on=False)\n",
    "        ax1.arrow(laser_pos, -51, 0, 50,  width = 4.5, color='red', length_includes_head=True, clip_on=False)\n",
    "        ax1.text(laser_pos-20,-12, power, rotation=90, color='k', fontsize=20, weight='bold')\n",
    "    else:\n",
    "        ax1.text(400, -20, s=f'Laser Off', fontsize=20, weight = 'bold')\n",
    "        ax1.arrow(laser_pos, -51, 0, 50,  width = 4.5, color='none', length_includes_head=True, clip_on=False)\n",
    "        \n",
    "    \n",
    "    ax1.set_xlim(-1, 500)\n",
    "    ax1.set_ylim(91, -1)\n",
    "    \n",
    "    ax1.set_xlabel('$\\mathbf{\\longleftarrow}$                 500 $ \\mathbf{\\mu m}$                $\\mathbf{\\longrightarrow}$', fontsize = 27, weight ='bold',)\n",
    "    ax1.annotate(r'$\\mathbf{\\leftarrow}$90 $\\mathbf{\\mu m}$ $\\mathbf{\\rightarrow}$', xy=(0.5, 0.5), xytext=(-0.025, 0.5), rotation=90,\n",
    "                 xycoords='axes fraction', textcoords='axes fraction', fontsize = 27, weight = 'bold', color='k', ha='center', va='center')\n",
    "    \n",
    "    ax1.tick_params(axis='both', labelcolor='black', labelsize=65, bottom=False, top=False, left=False, right=False, labelbottom=False, labelleft=False)\n",
    "    ax1.spines[:].set_linewidth(2)\n",
    "    \n",
    "    FCC2_txt = ax1.text(450, 20, r'$\\mathbf{\\gamma_{G_1}}$', fontsize = 40, weight='bold', color='white')\n",
    "    FCC4_txt = ax1.text(250, 65, r'$\\mathbf{\\gamma_{G_2}}$', fontsize = 40, weight='bold', color='white')\n",
    "    BCC3_txt = ax1.text(15, 20, r'$\\mathbf{\\alpha_{G_1}}$', fontsize = 40, weight='bold', color='k')\n",
    "    BCC5_txt = ax1.text(125, 87, r'$\\mathbf{\\alpha_{G_2}}$', fontsize = 30, weight='bold', color='k')\n",
    "\n",
    "#569 Laser is off here\n",
    "# ############ To save the image as well #############\n",
    "for t_step in range(550, 633, 1):\n",
    "# for t_step in range(t_steps):\n",
    "    if f'{time[t_step]*1e6:.0f}' != f'{time[t_step-1]*1e6:.0f}':\n",
    "        update_plot(t_step)\n",
    "        plt.savefig(f'../temperoray_figures/{power_level}_power/phase_evolve/f_{t_step}.png',bbox_inches='tight', dpi=100)\n",
    "    plt.close()\n",
    "print(\"FINISHED\")"
   ]
  },
  {
   "cell_type": "code",
   "execution_count": 27,
   "id": "7d242afa-aeb0-468e-8259-f98e6f0aba71",
   "metadata": {},
   "outputs": [
    {
     "name": "stdout",
     "output_type": "stream",
     "text": [
      "Finished\n"
     ]
    }
   ],
   "source": [
    "## Remaing the image names for sequential\n",
    "\n",
    "input_dir = f'../temperoray_figures/{power_level}_power/phase_evolve/'\n",
    "files = natsorted([f for f in os.listdir(input_dir) if f.startswith(\"f_\") and f.endswith(\".png\")])\n",
    "\n",
    "for i, fname in enumerate(files, start=0):\n",
    "    old_path = os.path.join(input_dir, fname)\n",
    "    new_path = os.path.join(input_dir, f\"f_{i}.png\")\n",
    "    os.rename(old_path, new_path)\n",
    "print(\"Finished\")"
   ]
  },
  {
   "cell_type": "code",
   "execution_count": null,
   "id": "d440f02d-6507-4e96-9ee4-9694b05ab457",
   "metadata": {},
   "outputs": [],
   "source": []
  },
  {
   "cell_type": "code",
   "execution_count": null,
   "id": "1f5b44d4-90b8-4628-8aa9-9672b3b32df7",
   "metadata": {},
   "outputs": [],
   "source": []
  },
  {
   "cell_type": "code",
   "execution_count": null,
   "id": "8cd808f5-4e6b-410b-8a77-8e41f56630f7",
   "metadata": {},
   "outputs": [],
   "source": []
  }
 ],
 "metadata": {
  "kernelspec": {
   "display_name": "Python 3 (ipykernel)",
   "language": "python",
   "name": "python3"
  },
  "language_info": {
   "codemirror_mode": {
    "name": "ipython",
    "version": 3
   },
   "file_extension": ".py",
   "mimetype": "text/x-python",
   "name": "python",
   "nbconvert_exporter": "python",
   "pygments_lexer": "ipython3",
   "version": "3.11.8"
  }
 },
 "nbformat": 4,
 "nbformat_minor": 5
}
