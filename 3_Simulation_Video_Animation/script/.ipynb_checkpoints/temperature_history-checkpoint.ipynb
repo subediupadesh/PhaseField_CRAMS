{
 "cells": [
  {
   "cell_type": "code",
   "execution_count": 8,
   "id": "1a80000c-cd55-41c5-aa3d-3a624cf4d573",
   "metadata": {},
   "outputs": [],
   "source": [
    "import numpy as np\n",
    "import pandas as pd\n",
    "import matplotlib.pyplot as plt\n",
    "import os\n",
    "import matplotlib.patches as patches\n",
    "from matplotlib.patches import Polygon \n",
    "from scipy.io import loadmat\n",
    "from matplotlib.colors import ListedColormap\n",
    "from matplotlib.lines import Line2D\n",
    "from matplotlib.text import Text\n",
    "from natsort import natsorted"
   ]
  },
  {
   "cell_type": "markdown",
   "id": "db9c8c46-a985-419b-87b0-8540ee30338f",
   "metadata": {},
   "source": [
    "## High Power"
   ]
  },
  {
   "cell_type": "code",
   "execution_count": 9,
   "id": "acc4ac11-19bf-4efa-ad93-eaba14779eb9",
   "metadata": {},
   "outputs": [],
   "source": [
    "power_level = 'high' #'low'\n",
    "numpy_path = os.path.abspath(f'../../1_Simulation_Results/numpy_files/{power_level}_power/')\n",
    "\n",
    "colormap_data = loadmat('../cold2hot.mat')\n",
    "cold2hot = ListedColormap(colormap_data['colormap'])\n",
    "hot2cold = ListedColormap(colormap_data['colormap'][::-1])"
   ]
  },
  {
   "cell_type": "code",
   "execution_count": 10,
   "id": "a8a21f37-870a-452d-b7cb-ad132d4fb349",
   "metadata": {},
   "outputs": [],
   "source": [
    "temp = np.load(numpy_path+'/temp.npy')\n",
    "time = np.load(numpy_path+'/time.npy')"
   ]
  },
  {
   "cell_type": "code",
   "execution_count": 11,
   "id": "f9a08acc-df67-4d5e-be97-48898e557ad1",
   "metadata": {},
   "outputs": [
    {
     "data": {
      "text/plain": [
       "(1911,)"
      ]
     },
     "execution_count": 11,
     "metadata": {},
     "output_type": "execute_result"
    }
   ],
   "source": [
    "time = time*1e-6 # mu_sec\n",
    "time.shape"
   ]
  },
  {
   "cell_type": "code",
   "execution_count": 16,
   "id": "1a9b1e23-2cb3-429f-9808-e20764c4f4af",
   "metadata": {},
   "outputs": [
    {
     "name": "stdout",
     "output_type": "stream",
     "text": [
      "FINISHED\n"
     ]
    }
   ],
   "source": [
    "scan_speed = r'300 $\\mathbf{mm/s}$'\n",
    "power = r\"180 $\\mathbf{W}$\"\n",
    "\n",
    "def update_plot(t_step):\n",
    "    \n",
    "    laser_speed = 300e-3 # m/s\n",
    "    scaling_factor = 1\n",
    "    if time[t_step] <= 15e-6:\n",
    "        laser_act_pos = 80e-6 * 1e6 # convering to meters\n",
    "    else:\n",
    "        laser_act_pos = (80e-6 + (time[t_step]-15e-6)*laser_speed) * 1e6  ## converting to visualization unit \n",
    "    laser_pos = laser_act_pos*scaling_factor # Laser position in accordance with figure\n",
    "    \n",
    "    fig, ax1 = plt.subplots(1,1, figsize=(16,8), frameon=False)\n",
    "    ax1.set_facecolor((0, 0, 0, 0))\n",
    "    hmap1 = ax1.imshow(temp[:,:,t_step], extent=[0, 500, 0, 90], cmap='coolwarm', vmin=300, aspect=1, origin=\"upper\",  interpolation='quadric')\n",
    "    \n",
    "    contour_levels = [677, 1468, 1864]\n",
    "    label_colors = ['k', 'k', 'k']\n",
    "    contour = ax1.contour(temp[:, :, t_step], extent=[0, 500, 0, 90], levels=contour_levels, linewidths=4, origin=\"upper\", colors='white', linestyles='-')\n",
    "    [(label.set_fontweight('bold'), label.set_color(color)) for label, color in zip(plt.clabel(contour, inline=True, fontsize=16, fmt='%1.0f K'), label_colors)]\n",
    "\n",
    "    if laser_pos < 250:\n",
    "        ax1.set_title(f't = {time[t_step]*1e6:.0f} '+r'$\\mathbf{\\mu}$s', pad=10, loc='right', fontsize=25, weight='bold')\n",
    "        Powder_Layer_txt = ax1.text(400, 20, 'Powder Layer', fontsize = 20, weight='bold', color='white')\n",
    "        Film_Layer_txt = ax1.text(400, 80, 'Film Layer', fontsize = 20, weight='bold', color='white')\n",
    "    else:\n",
    "        ax1.set_title(f't = {time[t_step]*1e6:.0f} '+r'$\\mathbf{\\mu}$s', pad=10, loc='left', fontsize=25, weight='bold')\n",
    "        Powder_Layer_txt = ax1.text(10, 20, 'Powder Layer', fontsize = 20, weight='bold', color='white')\n",
    "        Film_Layer_txt = ax1.text(10, 80, 'Film Layer', fontsize = 20, weight='bold', color='white')    \n",
    "\n",
    "    if laser_pos <= 415.5:\n",
    "        ax1.text(laser_pos+10, -40, s=f'{scan_speed}', fontsize=20, weight = 'bold')\n",
    "        ax1.arrow(laser_pos+10, -28, 30, 0,  width = 3, color='k', fill=False, clip_on=False)\n",
    "        ax1.arrow(laser_pos, -51, 0, 50,  width = 4.5, color='red', length_includes_head=True, clip_on=False)\n",
    "        ax1.text(laser_pos-20,-12, power, rotation=90, color='k', fontsize=20, weight='bold')\n",
    "    else:\n",
    "        ax1.text(400, -20, s=f'Laser Off', fontsize=20, weight = 'bold')\n",
    "        ax1.arrow(laser_pos, -51, 0, 50,  width = 4.5, color='none', length_includes_head=True, clip_on=False)\n",
    "\n",
    "    ax1.set_xlim(-1, 500)\n",
    "    ax1.set_ylim(90, -1)\n",
    "    \n",
    "    ax1.set_xlabel('$\\mathbf{\\longleftarrow}$                 500 $ \\mathbf{\\mu m}$                $\\mathbf{\\longrightarrow}$', fontsize = 27, weight ='bold',)\n",
    "    ax1.annotate(r'$\\mathbf{\\leftarrow}$90 $\\mathbf{\\mu m}$ $\\mathbf{\\rightarrow}$', xy=(0.5, 0.5), xytext=(-0.025, 0.5), rotation=90,\n",
    "                 xycoords='axes fraction', textcoords='axes fraction', fontsize = 27, weight = 'bold', color='k', ha='center', va='center')\n",
    "    \n",
    "    ax1.tick_params(axis='both', labelcolor='black', labelsize=65, bottom=False, top=False, left=False, right=False, labelbottom=False, labelleft=False)\n",
    "    ax1.spines[:].set_linewidth(2)\n",
    "\n",
    "    ax1.hlines(y=30, xmin=0, xmax=500, color='k', linestyle='--', linewidth=3, alpha=0.5)\n",
    "\n",
    "\n",
    "    ############## Color Bar ###########\n",
    "    ax2 = fig.add_axes([0.92, 0.355, 0.05, 0.278]) \n",
    "    cbar = fig.colorbar(hmap1, cax=ax2, orientation='vertical')\n",
    "    cbar.ax.tick_params(labelsize=25, direction='in', length=0) \n",
    "    text = Text(x=0.935, y=0.364, text=r'$\\mathbf{\\leftarrow}$ T [K]$\\mathbf{\\rightarrow}$', fontsize=30, color='k', rotation=90, weight='bold')\n",
    "    fig.add_artist(text)\n",
    "    # cbar.set_ticks([np.min(temp[:,:,t_step]), (np.max(temp[:,:,t_step])+np.min(temp[:,:,t_step]))/2, np.max(temp[:,:,t_step])], labels=[f'{np.min(temp[:,:,t_step]):.0f}', f'{(np.max(temp[:,:,t_step])+np.min(temp[:,:,t_step]))/2 :.0f}', f'{np.max(temp[:,:,t_step]):.0f}'], weight='bold') \n",
    "    cbar.set_ticks([300, (np.max(temp[:,:,t_step])+300)/2, np.max(temp[:,:,t_step])], labels=[300, f'{(np.max(temp[:,:,t_step])+300)/2 :.0f}', f'{np.max(temp[:,:,t_step]):.0f}'], weight='bold') \n",
    "    ax1.tick_params(axis='both', labelcolor='black', labelsize=65, bottom=False, top=False, left=False, right=False, labelbottom=False, labelleft=False)\n",
    "    ax1.spines[:].set_linewidth(2)\n",
    "    ax1.spines[:].set_color('k')\n",
    "    ax2.spines[:].set_linewidth(2)\n",
    "    line = Line2D([1.04, 1.04], [0.35, 0.65], transform=fig.transFigure, color=\"none\", linewidth=3, linestyle='-')\n",
    "    fig.add_artist(line)\n",
    "\n",
    "\n",
    "\n",
    "#1622 Laser is off here\n",
    "# ############ To save the image as well #############\n",
    "# for t_step in range(t_steps, t_steps+1, 1):\n",
    "for t_step in range(1200, 1911, 1):\n",
    "# for t_step in range(t_steps):\n",
    "    if f'{time[t_step]*1e6:.0f}' != f'{time[t_step-1]*1e6:.0f}':\n",
    "        update_plot(t_step)\n",
    "        plt.savefig(f'../temperoray_figures/{power_level}_power/temp_evolve/f_{t_step}.png',bbox_inches='tight', dpi=100)\n",
    "    plt.close()\n",
    "print(\"FINISHED\")"
   ]
  },
  {
   "cell_type": "code",
   "execution_count": 17,
   "id": "ba976c1e-ec25-4eb4-80df-cf5b4437359c",
   "metadata": {},
   "outputs": [
    {
     "name": "stdout",
     "output_type": "stream",
     "text": [
      "Finished\n"
     ]
    }
   ],
   "source": [
    "## Remaing the image names for sequential\n",
    "\n",
    "input_dir = f'../temperoray_figures/{power_level}_power/temp_evolve/'\n",
    "files = natsorted([f for f in os.listdir(input_dir) if f.startswith(\"f_\") and f.endswith(\".png\")])\n",
    "\n",
    "for i, fname in enumerate(files, start=0):\n",
    "    old_path = os.path.join(input_dir, fname)\n",
    "    new_path = os.path.join(input_dir, f\"f_{i}.png\")\n",
    "    os.rename(old_path, new_path)\n",
    "print(\"Finished\")"
   ]
  },
  {
   "cell_type": "code",
   "execution_count": null,
   "id": "f53a26a9-91d2-4bba-a3be-373313eba9b6",
   "metadata": {},
   "outputs": [],
   "source": []
  },
  {
   "cell_type": "markdown",
   "id": "ea1e52ad-0bab-467f-aebb-cdfe832410ce",
   "metadata": {},
   "source": [
    "## Low Power"
   ]
  },
  {
   "cell_type": "code",
   "execution_count": 18,
   "id": "84aadbd7-9ab4-426f-9eb4-4feedbbea799",
   "metadata": {},
   "outputs": [],
   "source": [
    "power_level = 'low'\n",
    "numpy_path = os.path.abspath(f'../../1_Simulation_Results/numpy_files/{power_level}_power/')\n",
    "\n",
    "colormap_data = loadmat('../cold2hot.mat')\n",
    "cold2hot = ListedColormap(colormap_data['colormap'])\n",
    "hot2cold = ListedColormap(colormap_data['colormap'][::-1])"
   ]
  },
  {
   "cell_type": "code",
   "execution_count": 19,
   "id": "63f1b8b0-31b8-4448-9c51-85eee3d77361",
   "metadata": {},
   "outputs": [],
   "source": [
    "temp = np.load(numpy_path+'/temp.npy')\n",
    "time = np.load(numpy_path+'/time.npy')"
   ]
  },
  {
   "cell_type": "code",
   "execution_count": 20,
   "id": "7206ff2e-cfb1-4007-8e0e-5bab695bd71f",
   "metadata": {},
   "outputs": [
    {
     "data": {
      "text/plain": [
       "(633,)"
      ]
     },
     "execution_count": 20,
     "metadata": {},
     "output_type": "execute_result"
    }
   ],
   "source": [
    "time = time*1e-6 # mu_sec\n",
    "time.shape"
   ]
  },
  {
   "cell_type": "code",
   "execution_count": 23,
   "id": "d9bf8fde-3cde-4c10-8a70-b4822af9c379",
   "metadata": {},
   "outputs": [
    {
     "name": "stdout",
     "output_type": "stream",
     "text": [
      "FINISHED\n"
     ]
    }
   ],
   "source": [
    "scan_speed = r'300 $\\mathbf{mm/s}$'\n",
    "power = r\"45 $\\mathbf{W}$\"\n",
    "\n",
    "def update_plot(t_step):\n",
    "    \n",
    "    laser_speed = 300e-3 # m/s\n",
    "    scaling_factor = 1\n",
    "    if time[t_step] <= 15e-6:\n",
    "        laser_act_pos = 80e-6 * 1e6 # convering to meters\n",
    "    else:\n",
    "        laser_act_pos = (80e-6 + (time[t_step]-15e-6)*laser_speed) * 1e6  ## converting to visualization unit \n",
    "    laser_pos = laser_act_pos*scaling_factor # Laser position in accordance with figure\n",
    "    \n",
    "    fig, ax1 = plt.subplots(1,1, figsize=(16,8), frameon=False)\n",
    "    ax1.set_facecolor((0, 0, 0, 0))\n",
    "    hmap1 = ax1.imshow(temp[:,:,t_step], extent=[0, 500, 0, 90], cmap='coolwarm', vmin=300, aspect=1, origin=\"upper\",  interpolation='quadric')\n",
    "    \n",
    "    contour_levels = [677, 1468, 1864]\n",
    "    label_colors = ['k', 'k', 'k']\n",
    "    contour = ax1.contour(temp[:, :, t_step], extent=[0, 500, 0, 90], levels=contour_levels, linewidths=4, origin=\"upper\", colors='white', linestyles='-')\n",
    "    [(label.set_fontweight('bold'), label.set_color(color)) for label, color in zip(plt.clabel(contour, inline=True, fontsize=16, fmt='%1.0f K'), label_colors)]\n",
    "\n",
    "    if laser_pos < 250:\n",
    "        ax1.set_title(f't = {time[t_step]*1e6:.0f} '+r'$\\mathbf{\\mu}$s', pad=10, loc='right', fontsize=25, weight='bold')\n",
    "        Powder_Layer_txt = ax1.text(400, 20, 'Powder Layer', fontsize = 20, weight='bold', color='white')\n",
    "        Film_Layer_txt = ax1.text(400, 80, 'Film Layer', fontsize = 20, weight='bold', color='white')\n",
    "    else:\n",
    "        ax1.set_title(f't = {time[t_step]*1e6:.0f} '+r'$\\mathbf{\\mu}$s', pad=10, loc='left', fontsize=25, weight='bold')\n",
    "        Powder_Layer_txt = ax1.text(10, 20, 'Powder Layer', fontsize = 20, weight='bold', color='white')\n",
    "        Film_Layer_txt = ax1.text(10, 80, 'Film Layer', fontsize = 20, weight='bold', color='white')\n",
    "    \n",
    "    if laser_pos <= 415.5:\n",
    "        ax1.text(laser_pos+10, -40, s=f'{scan_speed}', fontsize=20, weight = 'bold')\n",
    "        ax1.arrow(laser_pos+10, -28, 30, 0,  width = 3, color='k', fill=False, clip_on=False)\n",
    "        ax1.arrow(laser_pos, -51, 0, 50,  width = 4.5, color='red', length_includes_head=True, clip_on=False)\n",
    "        ax1.text(laser_pos-20,-12, power, rotation=90, color='k', fontsize=20, weight='bold')\n",
    "    else:\n",
    "        ax1.text(400, -20, s=f'Laser Off', fontsize=20, weight = 'bold')\n",
    "        ax1.arrow(laser_pos, -51, 0, 50,  width = 4.5, color='none', length_includes_head=True, clip_on=False)\n",
    "\n",
    "    \n",
    "    ax1.set_xlim(-1, 500)\n",
    "    ax1.set_ylim(90, -1)\n",
    "    \n",
    "    ax1.set_xlabel('$\\mathbf{\\longleftarrow}$                 500 $ \\mathbf{\\mu m}$                $\\mathbf{\\longrightarrow}$', fontsize = 27, weight ='bold',)\n",
    "    ax1.annotate(r'$\\mathbf{\\leftarrow}$90 $\\mathbf{\\mu m}$ $\\mathbf{\\rightarrow}$', xy=(0.5, 0.5), xytext=(-0.025, 0.5), rotation=90,\n",
    "                 xycoords='axes fraction', textcoords='axes fraction', fontsize = 27, weight = 'bold', color='k', ha='center', va='center')\n",
    "    \n",
    "    ax1.tick_params(axis='both', labelcolor='black', labelsize=65, bottom=False, top=False, left=False, right=False, labelbottom=False, labelleft=False)\n",
    "    ax1.spines[:].set_linewidth(2)\n",
    "\n",
    "    # ax1.hlines(y=30, xmin=0, xmax=500, color='k', linestyle='--', alpha=0.3)\n",
    "    ax1.hlines(y=30, xmin=0, xmax=500, color='k', linestyle='--', linewidth=3, alpha=0.5)\n",
    "\n",
    "    ############## Color Bar ###########\n",
    "    ax2 = fig.add_axes([0.92, 0.355, 0.05, 0.278]) \n",
    "    cbar = fig.colorbar(hmap1, cax=ax2, orientation='vertical')\n",
    "    cbar.ax.tick_params(labelsize=25, direction='in', length=0) \n",
    "    text = Text(x=0.935, y=0.364, text=r'$\\mathbf{\\leftarrow}$ T [K]$\\mathbf{\\rightarrow}$', fontsize=30, color='k', rotation=90, weight='bold')\n",
    "    fig.add_artist(text)\n",
    "    # cbar.set_ticks([np.min(temp[:,:,t_step]), (np.max(temp[:,:,t_step])+np.min(temp[:,:,t_step]))/2, np.max(temp[:,:,t_step])], labels=[f'{np.min(temp[:,:,t_step]):.0f}', f'{(np.max(temp[:,:,t_step])+np.min(temp[:,:,t_step]))/2 :.0f}', f'{np.max(temp[:,:,t_step]):.0f}'], weight='bold') \n",
    "    cbar.set_ticks([300, (np.max(temp[:,:,t_step])+300)/2, np.max(temp[:,:,t_step])], labels=[300, f'{(np.max(temp[:,:,t_step])+300)/2 :.0f}', f'{np.max(temp[:,:,t_step]):.0f}'], weight='bold') \n",
    "    ax1.tick_params(axis='both', labelcolor='black', labelsize=65, bottom=False, top=False, left=False, right=False, labelbottom=False, labelleft=False)\n",
    "    ax1.spines[:].set_linewidth(2)\n",
    "    ax1.spines[:].set_color('k')\n",
    "    ax2.spines[:].set_linewidth(2)\n",
    "    line = Line2D([1.04, 1.04], [0.35, 0.65], transform=fig.transFigure, color=\"none\", linewidth=3, linestyle='-')\n",
    "    fig.add_artist(line)\n",
    "\n",
    "\n",
    "\n",
    "#569 Laser is off here\n",
    "# ############ To save the image as well #############\n",
    "# for t_step in range(t_steps, t_steps+1, 1):\n",
    "for t_step in range(250, 633, 1):\n",
    "# for t_step in range(t_steps):\n",
    "    if f'{time[t_step]*1e6:.0f}' != f'{time[t_step-1]*1e6:.0f}':\n",
    "        update_plot(t_step)\n",
    "        plt.savefig(f'../temperoray_figures/{power_level}_power/temp_evolve/f_{t_step}.png',bbox_inches='tight', dpi=100)\n",
    "    plt.close()\n",
    "print(\"FINISHED\")"
   ]
  },
  {
   "cell_type": "code",
   "execution_count": 24,
   "id": "c52913e9-715b-4519-9a38-c74e05c765e1",
   "metadata": {},
   "outputs": [
    {
     "name": "stdout",
     "output_type": "stream",
     "text": [
      "Finished\n"
     ]
    }
   ],
   "source": [
    "## Remaing the image names for sequential\n",
    "\n",
    "input_dir = f'../temperoray_figures/{power_level}_power/temp_evolve/'\n",
    "files = natsorted([f for f in os.listdir(input_dir) if f.startswith(\"f_\") and f.endswith(\".png\")])\n",
    "\n",
    "for i, fname in enumerate(files, start=0):\n",
    "    old_path = os.path.join(input_dir, fname)\n",
    "    new_path = os.path.join(input_dir, f\"f_{i}.png\")\n",
    "    os.rename(old_path, new_path)\n",
    "print(\"Finished\")"
   ]
  },
  {
   "cell_type": "code",
   "execution_count": null,
   "id": "b2944a5b-22e1-4f6b-9bdb-6a4ea9177655",
   "metadata": {},
   "outputs": [],
   "source": []
  },
  {
   "cell_type": "code",
   "execution_count": null,
   "id": "8fcf4345-771a-423a-9605-56082c8d26ba",
   "metadata": {},
   "outputs": [],
   "source": []
  },
  {
   "cell_type": "code",
   "execution_count": null,
   "id": "558b60b9-9135-4eac-ad14-edae00d7e5df",
   "metadata": {},
   "outputs": [],
   "source": []
  },
  {
   "cell_type": "code",
   "execution_count": null,
   "id": "3b20072e-19df-4af9-be77-cea29301efb5",
   "metadata": {},
   "outputs": [],
   "source": []
  },
  {
   "cell_type": "code",
   "execution_count": null,
   "id": "3ae55357-81dc-45a1-aaa8-09f5e0c9888d",
   "metadata": {},
   "outputs": [],
   "source": []
  }
 ],
 "metadata": {
  "kernelspec": {
   "display_name": "Python 3 (ipykernel)",
   "language": "python",
   "name": "python3"
  },
  "language_info": {
   "codemirror_mode": {
    "name": "ipython",
    "version": 3
   },
   "file_extension": ".py",
   "mimetype": "text/x-python",
   "name": "python",
   "nbconvert_exporter": "python",
   "pygments_lexer": "ipython3",
   "version": "3.11.8"
  }
 },
 "nbformat": 4,
 "nbformat_minor": 5
}
