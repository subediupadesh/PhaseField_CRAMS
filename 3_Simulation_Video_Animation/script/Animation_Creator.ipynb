{
 "cells": [
  {
   "cell_type": "markdown",
   "id": "44f6ecc5-3295-42b6-a375-ff74251a0e18",
   "metadata": {},
   "source": [
    "# GIF Creator"
   ]
  },
  {
   "cell_type": "code",
   "execution_count": 1,
   "id": "1df466a2-276f-4aa0-b184-08f62059fa09",
   "metadata": {},
   "outputs": [],
   "source": [
    "import cv2\n",
    "import imageio\n",
    "import os\n",
    "from natsort import natsorted\n",
    "\n",
    "def create_gif_from_pngs(IP_folder, OP_folder, FPS=30, resize_factor=0.5):\n",
    "    images = []\n",
    "    png_files = natsorted([f for f in os.listdir(IP_folder) if f.endswith('.png')])\n",
    "\n",
    "    for file_name in png_files:\n",
    "        img_path = os.path.join(IP_folder, file_name)\n",
    "        img = cv2.imread(img_path)\n",
    "\n",
    "        if resize_factor != 1.0:\n",
    "            img = cv2.resize(img, None, fx=resize_factor, fy=resize_factor, interpolation=cv2.INTER_AREA)\n",
    "        \n",
    "        # Convert the image from BGR (OpenCV format) to RGB (imageio format)\n",
    "        img_rgb = cv2.cvtColor(img, cv2.COLOR_BGR2RGB)\n",
    "        images.append(img_rgb)\n",
    "\n",
    "    imageio.mimsave(OP_folder, images, format='GIF', fps=FPS,  loop=0)\n",
    "    print(f\"GIF created successfully: {OP_folder}\")"
   ]
  },
  {
   "cell_type": "markdown",
   "id": "6dae047b-3930-45b0-9978-b5b6b5ccfbc8",
   "metadata": {},
   "source": [
    "## High power"
   ]
  },
  {
   "cell_type": "code",
   "execution_count": null,
   "id": "388d2f99-e378-440d-b08a-5b54cd2a6ecc",
   "metadata": {},
   "outputs": [],
   "source": [
    "import subprocess\n",
    "subprocess.call(['ffmpeg', '-y', '-framerate', '25.000', '-i', f'../temperoray_figures/high_power/phase_evolve/f_%d.png', '-c:v', 'libx264', '-r', '25.000', '-s', '1920x1080', '-pix_fmt', 'yuv420p', f'../video_animations/high_power/PHASE.mp4'])\n",
    "subprocess.call(['ffmpeg', '-y', '-framerate', '25.000', '-i', f'../temperoray_figures/high_power/temp_evolve/f_%d.png',  '-c:v', 'libx264', '-r', '25.000', '-s', '1920x1080', '-pix_fmt', 'yuv420p', f'../video_animations/high_power/TEMPERATURE.mp4'])"
   ]
  },
  {
   "cell_type": "code",
   "execution_count": null,
   "id": "b6f7373f-ec33-4940-bd17-29d80a47a84c",
   "metadata": {},
   "outputs": [],
   "source": []
  },
  {
   "cell_type": "code",
   "execution_count": 3,
   "id": "87f4338d-d5dd-401c-a0b3-53f7db239b45",
   "metadata": {},
   "outputs": [
    {
     "name": "stdout",
     "output_type": "stream",
     "text": [
      "GIF created successfully: ../video_animations/high_power/gif/Phase.gif\n",
      "GIF created successfully: ../video_animations/high_power/gif/Temperature.gif\n"
     ]
    }
   ],
   "source": [
    "phase_in = f'../temperoray_figures/high_power/phase_evolve/'\n",
    "phase_out = f'../video_animations/high_power/gif/Phase.gif'\n",
    "\n",
    "temp_in = f'../temperoray_figures/high_power/temp_evolve/'\n",
    "temp_out = f'../video_animations/high_power/gif/Temperature.gif'\n",
    "\n",
    "create_gif_from_pngs(IP_folder=phase_in, OP_folder=phase_out, FPS=30, resize_factor=0.5)\n",
    "create_gif_from_pngs(IP_folder=temp_in, OP_folder=temp_out, FPS=30, resize_factor=0.5)"
   ]
  },
  {
   "cell_type": "code",
   "execution_count": null,
   "id": "75e0977c-61b2-4939-b7eb-edf423e6ba1a",
   "metadata": {},
   "outputs": [],
   "source": []
  },
  {
   "cell_type": "markdown",
   "id": "a02964af-11cb-4555-9858-b3e8c4cf9ea6",
   "metadata": {},
   "source": [
    "## Low power"
   ]
  },
  {
   "cell_type": "code",
   "execution_count": null,
   "id": "97fa521d-ef24-418d-88d4-311c467ab5a9",
   "metadata": {},
   "outputs": [],
   "source": [
    "import subprocess\n",
    "subprocess.call(['ffmpeg', '-y', '-framerate', '25.000', '-i', f'../temperoray_figures/low_power/phase_evolve/f_%d.png', '-c:v', 'libx264', '-r', '25.000', '-s', '1920x1080', '-pix_fmt', 'yuv420p', f'../video_animations/low_power/PHASE.mp4'])\n",
    "subprocess.call(['ffmpeg', '-y', '-framerate', '25.000', '-i', f'../temperoray_figures/low_power/temp_evolve/f_%d.png',  '-c:v', 'libx264', '-r', '25.000', '-s', '1920x1080', '-pix_fmt', 'yuv420p', f'../video_animations/low_power/TEMPERATURE.mp4'])"
   ]
  },
  {
   "cell_type": "code",
   "execution_count": null,
   "id": "41a834d8-103c-4db8-af8f-f394cab6bc47",
   "metadata": {},
   "outputs": [],
   "source": []
  },
  {
   "cell_type": "code",
   "execution_count": 5,
   "id": "3a036334-e7ae-4bd5-918d-d441db3a6c2a",
   "metadata": {},
   "outputs": [
    {
     "name": "stdout",
     "output_type": "stream",
     "text": [
      "GIF created successfully: ../video_animations/low_power/gif/Phase.gif\n",
      "GIF created successfully: ../video_animations/low_power/gif/Temperature.gif\n"
     ]
    }
   ],
   "source": [
    "phase_in = f'../temperoray_figures/low_power/phase_evolve/'\n",
    "phase_out = f'../video_animations/low_power/gif/Phase.gif'\n",
    "\n",
    "temp_in = f'../temperoray_figures/low_power/temp_evolve/'\n",
    "temp_out = f'../video_animations/low_power/gif/Temperature.gif'\n",
    "\n",
    "create_gif_from_pngs(IP_folder=phase_in, OP_folder=phase_out, FPS=30, resize_factor=0.5)\n",
    "create_gif_from_pngs(IP_folder=temp_in, OP_folder=temp_out, FPS=30, resize_factor=0.5)"
   ]
  },
  {
   "cell_type": "code",
   "execution_count": null,
   "id": "2b7779ed-4da1-4671-b4bd-c1e2f94e01e8",
   "metadata": {},
   "outputs": [],
   "source": []
  }
 ],
 "metadata": {
  "kernelspec": {
   "display_name": "Python 3 (ipykernel)",
   "language": "python",
   "name": "python3"
  },
  "language_info": {
   "codemirror_mode": {
    "name": "ipython",
    "version": 3
   },
   "file_extension": ".py",
   "mimetype": "text/x-python",
   "name": "python",
   "nbconvert_exporter": "python",
   "pygments_lexer": "ipython3",
   "version": "3.11.8"
  }
 },
 "nbformat": 4,
 "nbformat_minor": 5
}
